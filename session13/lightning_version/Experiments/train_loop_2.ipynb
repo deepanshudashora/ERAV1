{
  "cells": [
    {
      "cell_type": "code",
      "execution_count": null,
      "id": "147100c9",
      "metadata": {
        "execution": {
          "iopub.execute_input": "2023-08-08T05:15:16.247947Z",
          "iopub.status.busy": "2023-08-08T05:15:16.247596Z",
          "iopub.status.idle": "2023-08-08T05:15:30.008144Z",
          "shell.execute_reply": "2023-08-08T05:15:30.006971Z"
        },
        "papermill": {
          "duration": 13.869986,
          "end_time": "2023-08-08T05:15:30.010975",
          "exception": false,
          "start_time": "2023-08-08T05:15:16.140989",
          "status": "completed"
        },
        "tags": [],
        "id": "147100c9",
        "outputId": "43ae6e18-ea71-48b1-92bd-48867eb85ed8"
      },
      "outputs": [
        {
          "name": "stdout",
          "output_type": "stream",
          "text": [
            "Collecting torch_lr_finder\r\n",
            "  Downloading torch_lr_finder-0.2.1-py3-none-any.whl (11 kB)\r\n",
            "Requirement already satisfied: matplotlib in /opt/conda/lib/python3.10/site-packages (from torch_lr_finder) (3.7.1)\r\n",
            "Requirement already satisfied: numpy in /opt/conda/lib/python3.10/site-packages (from torch_lr_finder) (1.23.5)\r\n",
            "Requirement already satisfied: torch>=0.4.1 in /opt/conda/lib/python3.10/site-packages (from torch_lr_finder) (2.0.0)\r\n",
            "Requirement already satisfied: tqdm in /opt/conda/lib/python3.10/site-packages (from torch_lr_finder) (4.65.0)\r\n",
            "Requirement already satisfied: packaging in /opt/conda/lib/python3.10/site-packages (from torch_lr_finder) (21.3)\r\n",
            "Requirement already satisfied: filelock in /opt/conda/lib/python3.10/site-packages (from torch>=0.4.1->torch_lr_finder) (3.12.2)\r\n",
            "Requirement already satisfied: typing-extensions in /opt/conda/lib/python3.10/site-packages (from torch>=0.4.1->torch_lr_finder) (4.6.3)\r\n",
            "Requirement already satisfied: sympy in /opt/conda/lib/python3.10/site-packages (from torch>=0.4.1->torch_lr_finder) (1.12)\r\n",
            "Requirement already satisfied: networkx in /opt/conda/lib/python3.10/site-packages (from torch>=0.4.1->torch_lr_finder) (3.1)\r\n",
            "Requirement already satisfied: jinja2 in /opt/conda/lib/python3.10/site-packages (from torch>=0.4.1->torch_lr_finder) (3.1.2)\r\n",
            "Requirement already satisfied: contourpy>=1.0.1 in /opt/conda/lib/python3.10/site-packages (from matplotlib->torch_lr_finder) (1.1.0)\r\n",
            "Requirement already satisfied: cycler>=0.10 in /opt/conda/lib/python3.10/site-packages (from matplotlib->torch_lr_finder) (0.11.0)\r\n",
            "Requirement already satisfied: fonttools>=4.22.0 in /opt/conda/lib/python3.10/site-packages (from matplotlib->torch_lr_finder) (4.40.0)\r\n",
            "Requirement already satisfied: kiwisolver>=1.0.1 in /opt/conda/lib/python3.10/site-packages (from matplotlib->torch_lr_finder) (1.4.4)\r\n",
            "Requirement already satisfied: pillow>=6.2.0 in /opt/conda/lib/python3.10/site-packages (from matplotlib->torch_lr_finder) (9.5.0)\r\n",
            "Requirement already satisfied: pyparsing>=2.3.1 in /opt/conda/lib/python3.10/site-packages (from matplotlib->torch_lr_finder) (3.0.9)\r\n",
            "Requirement already satisfied: python-dateutil>=2.7 in /opt/conda/lib/python3.10/site-packages (from matplotlib->torch_lr_finder) (2.8.2)\r\n",
            "Requirement already satisfied: six>=1.5 in /opt/conda/lib/python3.10/site-packages (from python-dateutil>=2.7->matplotlib->torch_lr_finder) (1.16.0)\r\n",
            "Requirement already satisfied: MarkupSafe>=2.0 in /opt/conda/lib/python3.10/site-packages (from jinja2->torch>=0.4.1->torch_lr_finder) (2.1.3)\r\n",
            "Requirement already satisfied: mpmath>=0.19 in /opt/conda/lib/python3.10/site-packages (from sympy->torch>=0.4.1->torch_lr_finder) (1.3.0)\r\n",
            "Installing collected packages: torch_lr_finder\r\n",
            "Successfully installed torch_lr_finder-0.2.1\r\n"
          ]
        }
      ],
      "source": [
        "!pip3 install torch_lr_finder"
      ]
    },
    {
      "cell_type": "code",
      "execution_count": null,
      "id": "60699f5f",
      "metadata": {
        "execution": {
          "iopub.execute_input": "2023-08-08T05:15:30.230068Z",
          "iopub.status.busy": "2023-08-08T05:15:30.222369Z",
          "iopub.status.idle": "2023-08-08T05:15:50.233146Z",
          "shell.execute_reply": "2023-08-08T05:15:50.232071Z"
        },
        "papermill": {
          "duration": 20.121535,
          "end_time": "2023-08-08T05:15:50.235600",
          "exception": false,
          "start_time": "2023-08-08T05:15:30.114065",
          "status": "completed"
        },
        "tags": [],
        "id": "60699f5f",
        "outputId": "123378ac-e878-46c2-c882-a3a89024ef48"
      },
      "outputs": [
        {
          "name": "stderr",
          "output_type": "stream",
          "text": [
            "/opt/conda/lib/python3.10/site-packages/scipy/__init__.py:146: UserWarning: A NumPy version >=1.16.5 and <1.23.0 is required for this version of SciPy (detected version 1.23.5\n",
            "  warnings.warn(f\"A NumPy version >={np_minversion} and <{np_maxversion}\"\n",
            "/opt/conda/lib/python3.10/site-packages/torch_lr_finder/lr_finder.py:5: TqdmExperimentalWarning: Using `tqdm.autonotebook.tqdm` in notebook mode. Use `tqdm.tqdm` instead to force console mode (e.g. in jupyter console)\n",
            "  from tqdm.autonotebook import tqdm\n",
            "/opt/conda/lib/python3.10/site-packages/tensorflow_io/python/ops/__init__.py:98: UserWarning: unable to load libtensorflow_io_plugins.so: unable to open file: libtensorflow_io_plugins.so, from paths: ['/opt/conda/lib/python3.10/site-packages/tensorflow_io/python/ops/libtensorflow_io_plugins.so']\n",
            "caused by: ['/opt/conda/lib/python3.10/site-packages/tensorflow_io/python/ops/libtensorflow_io_plugins.so: undefined symbol: _ZN3tsl6StatusC1EN10tensorflow5error4CodeESt17basic_string_viewIcSt11char_traitsIcEENS_14SourceLocationE']\n",
            "  warnings.warn(f\"unable to load libtensorflow_io_plugins.so: {e}\")\n",
            "/opt/conda/lib/python3.10/site-packages/tensorflow_io/python/ops/__init__.py:104: UserWarning: file system plugins are not loaded: unable to open file: libtensorflow_io.so, from paths: ['/opt/conda/lib/python3.10/site-packages/tensorflow_io/python/ops/libtensorflow_io.so']\n",
            "caused by: ['/opt/conda/lib/python3.10/site-packages/tensorflow_io/python/ops/libtensorflow_io.so: undefined symbol: _ZTVN10tensorflow13GcsFileSystemE']\n",
            "  warnings.warn(f\"file system plugins are not loaded: {e}\")\n"
          ]
        }
      ],
      "source": [
        "import config\n",
        "from custom_models.YOLOv3.utils import get_loaders\n",
        "\n",
        "import warnings\n",
        "warnings.filterwarnings(\"ignore\")\n",
        "\n",
        "from typing import Any, Union\n",
        "from pytorch_lightning import LightningModule, Trainer, seed_everything\n",
        "import torch\n",
        "from torchmetrics import Accuracy\n",
        "import torch.optim as optim\n",
        "from pytorch_lightning import loggers as pl_loggers\n",
        "from pytorch_lightning.callbacks import LearningRateMonitor\n",
        "from pytorch_lightning.callbacks.progress import TQDMProgressBar\n",
        "from pytorch_lightning.loggers import CSVLogger\n",
        "from pytorch_lightning import Trainer\n",
        "\n",
        "import pandas as pd\n",
        "from custom_models.YOLOv3.loss import YoloLoss\n",
        "loss_fn = YoloLoss()\n",
        "from IPython.core.display import display\n",
        "import seaborn as sn\n",
        "from custom_models.YOLOv3.model import YOLOv3\n",
        "from custom_models.YOLOv3.dataset import YOLODataModule\n",
        "from custom_models.YOLOv3.main import YOLOTraining,check_accuracy\n",
        "import os"
      ]
    },
    {
      "cell_type": "code",
      "execution_count": null,
      "id": "5cb8a696",
      "metadata": {
        "execution": {
          "iopub.execute_input": "2023-08-08T05:15:50.447835Z",
          "iopub.status.busy": "2023-08-08T05:15:50.447345Z",
          "iopub.status.idle": "2023-08-08T05:15:50.514222Z",
          "shell.execute_reply": "2023-08-08T05:15:50.513281Z"
        },
        "papermill": {
          "duration": 0.172971,
          "end_time": "2023-08-08T05:15:50.516465",
          "exception": false,
          "start_time": "2023-08-08T05:15:50.343494",
          "status": "completed"
        },
        "tags": [],
        "id": "5cb8a696",
        "outputId": "41133e42-30c5-4342-a22f-293697da8d8f"
      },
      "outputs": [
        {
          "name": "stdout",
          "output_type": "stream",
          "text": [
            "/kaggle/input/pascal-voc-dataset-used-in-yolov3-video/PASCAL_VOC/train.csv\n"
          ]
        }
      ],
      "source": [
        "print(\"/kaggle/input/pascal-voc-dataset-used-in-yolov3-video/PASCAL_VOC/\" + \"train.csv\")\n",
        "train_loader, test_loader, train_eval_loader = get_loaders(\n",
        "    train_csv_path=\"/kaggle/input/pascal-voc-dataset-used-in-yolov3-video/PASCAL_VOC/\"+ \"train.csv\", test_csv_path=\"/kaggle/input/pascal-voc-dataset-used-in-yolov3-video/PASCAL_VOC/\" + \"test.csv\"\n",
        ")"
      ]
    },
    {
      "cell_type": "code",
      "execution_count": null,
      "id": "d4ca2549",
      "metadata": {
        "execution": {
          "iopub.execute_input": "2023-08-08T05:15:50.985732Z",
          "iopub.status.busy": "2023-08-08T05:15:50.984914Z",
          "iopub.status.idle": "2023-08-08T05:15:50.994140Z",
          "shell.execute_reply": "2023-08-08T05:15:50.993212Z"
        },
        "papermill": {
          "duration": 0.118462,
          "end_time": "2023-08-08T05:15:50.996351",
          "exception": false,
          "start_time": "2023-08-08T05:15:50.877889",
          "status": "completed"
        },
        "tags": [],
        "id": "d4ca2549"
      },
      "outputs": [],
      "source": [
        "import pytorch_lightning as pl\n",
        "from pytorch_lightning.loggers import TensorBoardLogger\n",
        "\n",
        "class AppendableTensorBoardLogger(TensorBoardLogger):\n",
        "    def log_metrics(self, metrics, step):\n",
        "        if self.version is None:\n",
        "            self._get_experiment()\n",
        "        assert self.version is not None, \"experiment doesn't exist\"\n",
        "\n",
        "        # Log metrics using TensorBoard's add_scalars method\n",
        "        for key, value in metrics.items():\n",
        "            self.experiment.add_scalars(key, {self.version: value}, step)\n",
        "\n",
        "    def close(self):\n",
        "        pass  # Override the close method to prevent closing the experiment\n",
        "\n",
        "# # Set up the Trainer\n",
        "# trainer = pl.Trainer(\n",
        "#     max_epochs=40,                           # Total number of epochs (including the ones already trained)\n",
        "#     checkpoint_callback=True,                # Enable checkpointing\n",
        "#     logger=AppendableTensorBoardLogger('logs'),  # Point to the directory containing existing TensorBoard logs\n",
        "#     resume_from_checkpoint=checkpoint_path,  # Path to the checkpoint file\n",
        "#     callbacks=[pl.callbacks.model_checkpoint.ModelCheckpoint()],  # Add other callbacks if needed\n",
        "#     # Other Trainer settings (e.g., GPU, distributed training, etc.)\n",
        "# )"
      ]
    },
    {
      "cell_type": "code",
      "execution_count": null,
      "id": "f2ca80db",
      "metadata": {
        "execution": {
          "iopub.execute_input": "2023-08-08T05:15:51.206800Z",
          "iopub.status.busy": "2023-08-08T05:15:51.205700Z",
          "iopub.status.idle": "2023-08-08T12:44:59.638875Z",
          "shell.execute_reply": "2023-08-08T12:44:59.633234Z"
        },
        "papermill": {
          "duration": 26948.542996,
          "end_time": "2023-08-08T12:44:59.641505",
          "exception": false,
          "start_time": "2023-08-08T05:15:51.098509",
          "status": "completed"
        },
        "tags": [],
        "colab": {
          "referenced_widgets": [
            "78a91076fe10423898a0c9d5de917046",
            "23d318723051477d9e9bf3581ecd30a7",
            "d9a9b845afb5439ea05e57771b0c9766",
            "28e2c3e334d94ed8acd285eef649aa27",
            "2e48cda45cdb4b3a858b7b7203ce3b0b",
            "9f078d7fb3ff41a6808edd9619f46775"
          ]
        },
        "id": "f2ca80db",
        "outputId": "af5fb119-2225-4695-b587-237d74a1230a"
      },
      "outputs": [
        {
          "data": {
            "application/vnd.jupyter.widget-view+json": {
              "model_id": "78a91076fe10423898a0c9d5de917046",
              "version_major": 2,
              "version_minor": 0
            },
            "text/plain": [
              "Training: 0it [00:00, ?it/s]"
            ]
          },
          "metadata": {},
          "output_type": "display_data"
        },
        {
          "data": {
            "application/vnd.jupyter.widget-view+json": {
              "model_id": "23d318723051477d9e9bf3581ecd30a7",
              "version_major": 2,
              "version_minor": 0
            },
            "text/plain": [
              "Validation: 0it [00:00, ?it/s]"
            ]
          },
          "metadata": {},
          "output_type": "display_data"
        },
        {
          "data": {
            "application/vnd.jupyter.widget-view+json": {
              "model_id": "d9a9b845afb5439ea05e57771b0c9766",
              "version_major": 2,
              "version_minor": 0
            },
            "text/plain": [
              "Validation: 0it [00:00, ?it/s]"
            ]
          },
          "metadata": {},
          "output_type": "display_data"
        },
        {
          "data": {
            "application/vnd.jupyter.widget-view+json": {
              "model_id": "28e2c3e334d94ed8acd285eef649aa27",
              "version_major": 2,
              "version_minor": 0
            },
            "text/plain": [
              "Validation: 0it [00:00, ?it/s]"
            ]
          },
          "metadata": {},
          "output_type": "display_data"
        },
        {
          "data": {
            "application/vnd.jupyter.widget-view+json": {
              "model_id": "2e48cda45cdb4b3a858b7b7203ce3b0b",
              "version_major": 2,
              "version_minor": 0
            },
            "text/plain": [
              "Validation: 0it [00:00, ?it/s]"
            ]
          },
          "metadata": {},
          "output_type": "display_data"
        },
        {
          "data": {
            "application/vnd.jupyter.widget-view+json": {
              "model_id": "9f078d7fb3ff41a6808edd9619f46775",
              "version_major": 2,
              "version_minor": 0
            },
            "text/plain": [
              "Validation: 0it [00:00, ?it/s]"
            ]
          },
          "metadata": {},
          "output_type": "display_data"
        }
      ],
      "source": [
        "\n",
        "# tb_logger = pl_loggers.TensorBoardLogger(tensorboard_logs)\n",
        "# csv_logger = CSVLogger(save_dir=csv_logs)\n",
        "\n",
        "common_version = \"version_0\"  # Choose a version name\n",
        "\n",
        "# Instantiate custom loggers with the same experiment version\n",
        "tb_logger = AppendableTensorBoardLogger('/kaggle/working/results/tf_logs', version=common_version)\n",
        "# csv_logger = AppendableCSVLogger('/kaggle/working/results/csv_training_logs', version=common_version)\n",
        "csv_logger = CSVLogger('/kaggle/working/results/csv_training_logs', version=common_version)  # Point to the directory containing existing CSV logs\n",
        "\n",
        "max_epochs = 40\n",
        "max_lr = 5.36E-02\n",
        "learning_rate = config.LEARNING_RATE\n",
        "weight_decay = config.WEIGHT_DECAY\n",
        "check_val_every_n_epoch = 5\n",
        "#loss_fn,config,model,max_lr,train_loader,check_accuracy,pct_start\n",
        "loss_fn = YoloLoss()\n",
        "model = YOLOv3(num_classes=config.NUM_CLASSES).to(config.DEVICE)\n",
        "model = YOLOTraining(loss_fn,config,model,max_lr,train_loader,check_accuracy,5/max_epochs)\n",
        "data_module = YOLODataModule(train_loader, test_loader, train_eval_loader)\n",
        "trainer = Trainer(\n",
        "    max_epochs=max_epochs,\n",
        "    accelerator=\"gpu\",\n",
        "    devices=1 if torch.cuda.is_available() else None,  # limiting got iPython runs\n",
        "    logger=[tb_logger, csv_logger],\n",
        "    precision=16,\n",
        "    callbacks=[LearningRateMonitor(logging_interval=\"step\"), TQDMProgressBar(refresh_rate=10)],\n",
        "    check_val_every_n_epoch=check_val_every_n_epoch\n",
        ")\n",
        "\n",
        "from typing import Any, Union\n",
        "ckpt_path = \"/kaggle/working/results/tf_logs/lightning_logs/version_0/checkpoints/epoch=19-step=82760.ckpt\"\n",
        "trainer.fit(model, data_module, ckpt_path=ckpt_path)"
      ]
    },
    {
      "cell_type": "code",
      "execution_count": null,
      "id": "70884e6a",
      "metadata": {
        "papermill": {
          "duration": 4.207072,
          "end_time": "2023-08-08T12:45:03.952447",
          "exception": false,
          "start_time": "2023-08-08T12:44:59.745375",
          "status": "completed"
        },
        "tags": [],
        "id": "70884e6a"
      },
      "outputs": [],
      "source": []
    },
    {
      "cell_type": "code",
      "execution_count": null,
      "id": "b3c6f799",
      "metadata": {
        "papermill": {
          "duration": 0.178331,
          "end_time": "2023-08-08T12:45:04.304523",
          "exception": false,
          "start_time": "2023-08-08T12:45:04.126192",
          "status": "completed"
        },
        "tags": [],
        "id": "b3c6f799"
      },
      "outputs": [],
      "source": []
    }
  ],
  "metadata": {
    "kernelspec": {
      "display_name": "Python 3",
      "language": "python",
      "name": "python3"
    },
    "language_info": {
      "codemirror_mode": {
        "name": "ipython",
        "version": 3
      },
      "file_extension": ".py",
      "mimetype": "text/x-python",
      "name": "python",
      "nbconvert_exporter": "python",
      "pygments_lexer": "ipython3",
      "version": "3.10.12"
    },
    "papermill": {
      "default_parameters": {},
      "duration": 27076.790091,
      "end_time": "2023-08-08T12:45:08.328032",
      "environment_variables": {},
      "exception": null,
      "input_path": "__notebook__.ipynb",
      "output_path": "__notebook__.ipynb",
      "parameters": {},
      "start_time": "2023-08-08T05:13:51.537941",
      "version": "2.4.0"
    },
    "widgets": {
      "application/vnd.jupyter.widget-state+json": {}
    },
    "colab": {
      "provenance": []
    }
  },
  "nbformat": 4,
  "nbformat_minor": 5
}