{
  "cells": [
    {
      "cell_type": "code",
      "execution_count": null,
      "id": "0787a9bb",
      "metadata": {
        "execution": {
          "iopub.execute_input": "2023-08-07T02:53:48.502650Z",
          "iopub.status.busy": "2023-08-07T02:53:48.502078Z",
          "iopub.status.idle": "2023-08-07T02:53:48.509509Z",
          "shell.execute_reply": "2023-08-07T02:53:48.508308Z"
        },
        "papermill": {
          "duration": 0.171009,
          "end_time": "2023-08-07T02:53:48.511735",
          "exception": false,
          "start_time": "2023-08-07T02:53:48.340726",
          "status": "completed"
        },
        "tags": [],
        "id": "0787a9bb",
        "outputId": "9b170eb1-37d8-4fec-9761-367fb767edf3"
      },
      "outputs": [
        {
          "name": "stdout",
          "output_type": "stream",
          "text": [
            "/kaggle/input/newcodefiles/lightning_version\n"
          ]
        }
      ],
      "source": [
        "%cd /kaggle/input/newcodefiles/lightning_version"
      ]
    },
    {
      "cell_type": "code",
      "execution_count": null,
      "id": "d1c7bc79",
      "metadata": {
        "execution": {
          "iopub.execute_input": "2023-08-07T02:53:48.735557Z",
          "iopub.status.busy": "2023-08-07T02:53:48.734302Z",
          "iopub.status.idle": "2023-08-07T02:54:02.215951Z",
          "shell.execute_reply": "2023-08-07T02:54:02.213752Z"
        },
        "papermill": {
          "duration": 13.599201,
          "end_time": "2023-08-07T02:54:02.219741",
          "exception": false,
          "start_time": "2023-08-07T02:53:48.620540",
          "status": "completed"
        },
        "tags": [],
        "id": "d1c7bc79",
        "outputId": "bd52e00b-8ba3-4950-de8e-0ea8069493d3"
      },
      "outputs": [
        {
          "name": "stdout",
          "output_type": "stream",
          "text": [
            "Collecting torch_lr_finder\r\n"
          ]
        },
        {
          "name": "stdout",
          "output_type": "stream",
          "text": [
            "  Downloading torch_lr_finder-0.2.1-py3-none-any.whl (11 kB)\r\n",
            "Requirement already satisfied: matplotlib in /opt/conda/lib/python3.10/site-packages (from torch_lr_finder) (3.7.1)\r\n",
            "Requirement already satisfied: numpy in /opt/conda/lib/python3.10/site-packages (from torch_lr_finder) (1.23.5)\r\n",
            "Requirement already satisfied: torch>=0.4.1 in /opt/conda/lib/python3.10/site-packages (from torch_lr_finder) (2.0.0)\r\n",
            "Requirement already satisfied: tqdm in /opt/conda/lib/python3.10/site-packages (from torch_lr_finder) (4.65.0)\r\n",
            "Requirement already satisfied: packaging in /opt/conda/lib/python3.10/site-packages (from torch_lr_finder) (21.3)\r\n",
            "Requirement already satisfied: filelock in /opt/conda/lib/python3.10/site-packages (from torch>=0.4.1->torch_lr_finder) (3.12.2)\r\n",
            "Requirement already satisfied: typing-extensions in /opt/conda/lib/python3.10/site-packages (from torch>=0.4.1->torch_lr_finder) (4.6.3)\r\n",
            "Requirement already satisfied: sympy in /opt/conda/lib/python3.10/site-packages (from torch>=0.4.1->torch_lr_finder) (1.12)\r\n"
          ]
        },
        {
          "name": "stdout",
          "output_type": "stream",
          "text": [
            "Requirement already satisfied: networkx in /opt/conda/lib/python3.10/site-packages (from torch>=0.4.1->torch_lr_finder) (3.1)\r\n",
            "Requirement already satisfied: jinja2 in /opt/conda/lib/python3.10/site-packages (from torch>=0.4.1->torch_lr_finder) (3.1.2)\r\n",
            "Requirement already satisfied: contourpy>=1.0.1 in /opt/conda/lib/python3.10/site-packages (from matplotlib->torch_lr_finder) (1.1.0)\r\n",
            "Requirement already satisfied: cycler>=0.10 in /opt/conda/lib/python3.10/site-packages (from matplotlib->torch_lr_finder) (0.11.0)\r\n",
            "Requirement already satisfied: fonttools>=4.22.0 in /opt/conda/lib/python3.10/site-packages (from matplotlib->torch_lr_finder) (4.40.0)\r\n",
            "Requirement already satisfied: kiwisolver>=1.0.1 in /opt/conda/lib/python3.10/site-packages (from matplotlib->torch_lr_finder) (1.4.4)\r\n",
            "Requirement already satisfied: pillow>=6.2.0 in /opt/conda/lib/python3.10/site-packages (from matplotlib->torch_lr_finder) (9.5.0)\r\n",
            "Requirement already satisfied: pyparsing>=2.3.1 in /opt/conda/lib/python3.10/site-packages (from matplotlib->torch_lr_finder) (3.0.9)\r\n",
            "Requirement already satisfied: python-dateutil>=2.7 in /opt/conda/lib/python3.10/site-packages (from matplotlib->torch_lr_finder) (2.8.2)\r\n"
          ]
        },
        {
          "name": "stdout",
          "output_type": "stream",
          "text": [
            "Requirement already satisfied: six>=1.5 in /opt/conda/lib/python3.10/site-packages (from python-dateutil>=2.7->matplotlib->torch_lr_finder) (1.16.0)\r\n",
            "Requirement already satisfied: MarkupSafe>=2.0 in /opt/conda/lib/python3.10/site-packages (from jinja2->torch>=0.4.1->torch_lr_finder) (2.1.3)\r\n"
          ]
        },
        {
          "name": "stdout",
          "output_type": "stream",
          "text": [
            "Requirement already satisfied: mpmath>=0.19 in /opt/conda/lib/python3.10/site-packages (from sympy->torch>=0.4.1->torch_lr_finder) (1.3.0)\r\n"
          ]
        },
        {
          "name": "stdout",
          "output_type": "stream",
          "text": [
            "Installing collected packages: torch_lr_finder\r\n"
          ]
        },
        {
          "name": "stdout",
          "output_type": "stream",
          "text": [
            "Successfully installed torch_lr_finder-0.2.1\r\n"
          ]
        }
      ],
      "source": [
        "!pip3 install torch_lr_finder"
      ]
    },
    {
      "cell_type": "code",
      "execution_count": null,
      "id": "8b872230",
      "metadata": {
        "execution": {
          "iopub.execute_input": "2023-08-07T02:54:02.608280Z",
          "iopub.status.busy": "2023-08-07T02:54:02.607501Z",
          "iopub.status.idle": "2023-08-07T02:54:22.329776Z",
          "shell.execute_reply": "2023-08-07T02:54:22.328493Z"
        },
        "papermill": {
          "duration": 19.915648,
          "end_time": "2023-08-07T02:54:22.332373",
          "exception": false,
          "start_time": "2023-08-07T02:54:02.416725",
          "status": "completed"
        },
        "tags": [],
        "id": "8b872230",
        "outputId": "f9239b64-1865-40c9-91a2-ed58c50f793b"
      },
      "outputs": [
        {
          "name": "stderr",
          "output_type": "stream",
          "text": [
            "/opt/conda/lib/python3.10/site-packages/scipy/__init__.py:146: UserWarning: A NumPy version >=1.16.5 and <1.23.0 is required for this version of SciPy (detected version 1.23.5\n",
            "  warnings.warn(f\"A NumPy version >={np_minversion} and <{np_maxversion}\"\n"
          ]
        },
        {
          "name": "stderr",
          "output_type": "stream",
          "text": [
            "/opt/conda/lib/python3.10/site-packages/torch_lr_finder/lr_finder.py:5: TqdmExperimentalWarning: Using `tqdm.autonotebook.tqdm` in notebook mode. Use `tqdm.tqdm` instead to force console mode (e.g. in jupyter console)\n",
            "  from tqdm.autonotebook import tqdm\n"
          ]
        },
        {
          "name": "stderr",
          "output_type": "stream",
          "text": [
            "/opt/conda/lib/python3.10/site-packages/tensorflow_io/python/ops/__init__.py:98: UserWarning: unable to load libtensorflow_io_plugins.so: unable to open file: libtensorflow_io_plugins.so, from paths: ['/opt/conda/lib/python3.10/site-packages/tensorflow_io/python/ops/libtensorflow_io_plugins.so']\n",
            "caused by: ['/opt/conda/lib/python3.10/site-packages/tensorflow_io/python/ops/libtensorflow_io_plugins.so: undefined symbol: _ZN3tsl6StatusC1EN10tensorflow5error4CodeESt17basic_string_viewIcSt11char_traitsIcEENS_14SourceLocationE']\n",
            "  warnings.warn(f\"unable to load libtensorflow_io_plugins.so: {e}\")\n",
            "/opt/conda/lib/python3.10/site-packages/tensorflow_io/python/ops/__init__.py:104: UserWarning: file system plugins are not loaded: unable to open file: libtensorflow_io.so, from paths: ['/opt/conda/lib/python3.10/site-packages/tensorflow_io/python/ops/libtensorflow_io.so']\n",
            "caused by: ['/opt/conda/lib/python3.10/site-packages/tensorflow_io/python/ops/libtensorflow_io.so: undefined symbol: _ZTVN10tensorflow13GcsFileSystemE']\n",
            "  warnings.warn(f\"file system plugins are not loaded: {e}\")\n"
          ]
        }
      ],
      "source": [
        "import config\n",
        "from custom_models.YOLOv3.utils import get_loaders\n",
        "\n",
        "import warnings\n",
        "warnings.filterwarnings(\"ignore\")\n",
        "\n",
        "import torch\n",
        "import torch.optim as optim\n",
        "\n",
        "import pandas as pd\n",
        "from custom_models.YOLOv3.loss import YoloLoss\n",
        "loss_fn = YoloLoss()\n",
        "from IPython.core.display import display\n",
        "import seaborn as sn\n",
        "from custom_models.YOLOv3.model import YOLOv3\n",
        "from custom_models.YOLOv3.dataset import YOLODataModule\n",
        "from custom_models.YOLOv3.main import YOLOTraining,check_accuracy,make_trainer\n",
        "from custom_models.utils import find_max\n",
        "from custom_models.YOLOv3.utils import find_max_lr, criterion\n",
        "import os\n",
        "import warnings\n",
        "warnings.filterwarnings(\"ignore\")"
      ]
    },
    {
      "cell_type": "code",
      "execution_count": null,
      "id": "eb4e2c66",
      "metadata": {
        "execution": {
          "iopub.execute_input": "2023-08-07T02:54:22.562646Z",
          "iopub.status.busy": "2023-08-07T02:54:22.562234Z",
          "iopub.status.idle": "2023-08-07T02:54:22.655719Z",
          "shell.execute_reply": "2023-08-07T02:54:22.653575Z"
        },
        "papermill": {
          "duration": 0.20956,
          "end_time": "2023-08-07T02:54:22.657955",
          "exception": false,
          "start_time": "2023-08-07T02:54:22.448395",
          "status": "completed"
        },
        "tags": [],
        "id": "eb4e2c66",
        "outputId": "36c25251-152a-4917-edc0-fcd799662777"
      },
      "outputs": [
        {
          "name": "stdout",
          "output_type": "stream",
          "text": [
            "/kaggle/input/pascal-voc-dataset-used-in-yolov3-video/PASCAL_VOC/train.csv\n"
          ]
        }
      ],
      "source": [
        "print(\"/kaggle/input/pascal-voc-dataset-used-in-yolov3-video/PASCAL_VOC/\" + \"train.csv\")\n",
        "train_loader, test_loader, train_eval_loader = get_loaders(\n",
        "    train_csv_path=\"/kaggle/input/pascal-voc-dataset-used-in-yolov3-video/PASCAL_VOC/\"+ \"train.csv\", test_csv_path=\"/kaggle/input/pascal-voc-dataset-used-in-yolov3-video/PASCAL_VOC/\" + \"test.csv\"\n",
        ")"
      ]
    },
    {
      "cell_type": "code",
      "execution_count": null,
      "id": "5e969c44",
      "metadata": {
        "execution": {
          "iopub.execute_input": "2023-08-07T02:54:22.878337Z",
          "iopub.status.busy": "2023-08-07T02:54:22.877634Z",
          "iopub.status.idle": "2023-08-07T02:57:29.139195Z",
          "shell.execute_reply": "2023-08-07T02:57:29.138171Z"
        },
        "papermill": {
          "duration": 186.374438,
          "end_time": "2023-08-07T02:57:29.141738",
          "exception": false,
          "start_time": "2023-08-07T02:54:22.767300",
          "status": "completed"
        },
        "tags": [],
        "colab": {
          "referenced_widgets": [
            "1fcc0689032d4092947ed51f91f65790"
          ]
        },
        "id": "5e969c44",
        "outputId": "517638e1-ae1f-4cf8-99b9-ea520c1d7d0e"
      },
      "outputs": [
        {
          "data": {
            "application/vnd.jupyter.widget-view+json": {
              "model_id": "1fcc0689032d4092947ed51f91f65790",
              "version_major": 2,
              "version_minor": 0
            },
            "text/plain": [
              "  0%|          | 0/200 [00:00<?, ?it/s]"
            ]
          },
          "metadata": {},
          "output_type": "display_data"
        },
        {
          "name": "stdout",
          "output_type": "stream",
          "text": [
            "Stopping early, the loss has diverged\n",
            "Learning rate search finished. See the graph with {finder_name}.plot()\n",
            "LR suggestion: steepest gradient\n",
            "Suggested LR: 5.36E-02\n"
          ]
        },
        {
          "data": {
            "image/png": "[encoded data removed]",
            "text/plain": [
              "<Figure size 640x480 with 1 Axes>"
            ]
          },
          "metadata": {},
          "output_type": "display_data"
        }
      ],
      "source": [
        "DEVICE = \"cuda\" if torch.cuda.is_available() else \"cpu\"\n",
        "model = YOLOv3(num_classes=config.NUM_CLASSES).to(DEVICE)\n",
        "optimizer = optim.Adam(\n",
        "    model.parameters(), lr=config.LEARNING_RATE, weight_decay=config.WEIGHT_DECAY\n",
        ")\n",
        "scaled_anchors = (\n",
        "    torch.tensor(config.ANCHORS)\n",
        "    * torch.tensor(config.S).unsqueeze(1).unsqueeze(1).repeat(1, 3, 2)\n",
        ").to(DEVICE)\n",
        "\n",
        "def criterion(out, y):\n",
        "    y0, y1, y2 = (\n",
        "            y[0].to(DEVICE),\n",
        "            y[1].to(DEVICE),\n",
        "            y[2].to(DEVICE),\n",
        "        )\n",
        "    loss = (\n",
        "                loss_fn(out[0], y0, scaled_anchors[0])\n",
        "                + loss_fn(out[1], y1, scaled_anchors[1])\n",
        "                + loss_fn(out[2], y2, scaled_anchors[2])\n",
        "            )\n",
        "    return loss\n",
        "\n",
        "end_lr = 2\n",
        "\n",
        "find_max_lr(model,optimizer,criterion,train_loader,end_lr)"
      ]
    },
    {
      "cell_type": "code",
      "execution_count": null,
      "id": "8a84e6d7",
      "metadata": {
        "execution": {
          "iopub.execute_input": "2023-08-07T02:57:29.623589Z",
          "iopub.status.busy": "2023-08-07T02:57:29.622447Z"
        },
        "papermill": {
          "duration": null,
          "end_time": null,
          "exception": false,
          "start_time": "2023-08-07T02:57:29.512156",
          "status": "running"
        },
        "tags": [],
        "colab": {
          "referenced_widgets": [
            "a1fdf041e94f468d9cc9b7f56a4ca833",
            "4aac7a1156684e36aaec524ceddbd667",
            "6044f6fe33d740bbb69b08f334d481ae",
            "b355c685c50b4ee9be785519f364c9ee",
            "05ab7887f0ef4fdc8e4ed2340628680f"
          ]
        },
        "id": "8a84e6d7",
        "outputId": "2939179e-b71c-4ee6-b9ca-c025e94ecd33"
      },
      "outputs": [
        {
          "data": {
            "application/vnd.jupyter.widget-view+json": {
              "model_id": "a1fdf041e94f468d9cc9b7f56a4ca833",
              "version_major": 2,
              "version_minor": 0
            },
            "text/plain": [
              "Sanity Checking: 0it [00:00, ?it/s]"
            ]
          },
          "metadata": {},
          "output_type": "display_data"
        },
        {
          "data": {
            "application/vnd.jupyter.widget-view+json": {
              "model_id": "4aac7a1156684e36aaec524ceddbd667",
              "version_major": 2,
              "version_minor": 0
            },
            "text/plain": [
              "Training: 0it [00:00, ?it/s]"
            ]
          },
          "metadata": {},
          "output_type": "display_data"
        },
        {
          "data": {
            "application/vnd.jupyter.widget-view+json": {
              "model_id": "6044f6fe33d740bbb69b08f334d481ae",
              "version_major": 2,
              "version_minor": 0
            },
            "text/plain": [
              "Validation: 0it [00:00, ?it/s]"
            ]
          },
          "metadata": {},
          "output_type": "display_data"
        },
        {
          "data": {
            "application/vnd.jupyter.widget-view+json": {
              "model_id": "b355c685c50b4ee9be785519f364c9ee",
              "version_major": 2,
              "version_minor": 0
            },
            "text/plain": [
              "Validation: 0it [00:00, ?it/s]"
            ]
          },
          "metadata": {},
          "output_type": "display_data"
        },
        {
          "data": {
            "application/vnd.jupyter.widget-view+json": {
              "model_id": "05ab7887f0ef4fdc8e4ed2340628680f",
              "version_major": 2,
              "version_minor": 0
            },
            "text/plain": [
              "Validation: 0it [00:00, ?it/s]"
            ]
          },
          "metadata": {},
          "output_type": "display_data"
        }
      ],
      "source": [
        "max_epochs = 40\n",
        "max_lr = 5.36E-02\n",
        "learning_rate = config.LEARNING_RATE\n",
        "weight_decay = config.WEIGHT_DECAY\n",
        "check_val_every_n_epoch = 20\n",
        "make_trainer(max_epochs,train_loader, test_loader, train_eval_loader,max_lr,\n",
        "                 learning_rate,weight_decay,check_val_every_n_epoch,config,precision=16,\n",
        "                 refresh_rate=10,accelerator=\"auto\",\n",
        "                 tensorboard_logs = \"/kaggle/working/tf_logs/\",\n",
        "                 csv_logs = \"/kaggle/working/csv_training_logs/\"\n",
        "            )"
      ]
    },
    {
      "cell_type": "code",
      "execution_count": null,
      "id": "d5177176",
      "metadata": {
        "papermill": {
          "duration": null,
          "end_time": null,
          "exception": null,
          "start_time": null,
          "status": "pending"
        },
        "tags": [],
        "id": "d5177176"
      },
      "outputs": [],
      "source": []
    }
  ],
  "metadata": {
    "kernelspec": {
      "display_name": "Python 3",
      "language": "python",
      "name": "python3"
    },
    "language_info": {
      "codemirror_mode": {
        "name": "ipython",
        "version": 3
      },
      "file_extension": ".py",
      "mimetype": "text/x-python",
      "name": "python",
      "nbconvert_exporter": "python",
      "pygments_lexer": "ipython3",
      "version": "3.6.4"
    },
    "papermill": {
      "default_parameters": {},
      "duration": null,
      "end_time": null,
      "environment_variables": {},
      "exception": null,
      "input_path": "__notebook__.ipynb",
      "output_path": "__notebook__.ipynb",
      "parameters": {},
      "start_time": "2023-08-07T02:52:08.325855",
      "version": "2.4.0"
    },
    "colab": {
      "provenance": []
    }
  },
  "nbformat": 4,
  "nbformat_minor": 5
}